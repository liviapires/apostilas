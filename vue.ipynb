{
 "cells": [
  {
   "cell_type": "markdown",
   "metadata": {},
   "source": [
    "# Vue.js"
   ]
  },
  {
   "cell_type": "markdown",
   "metadata": {},
   "source": [
    "## Instalação"
   ]
  },
  {
   "cell_type": "markdown",
   "metadata": {},
   "source": [
    "**Sempre seguir o [guia de instalação](https://vuejsbr-docs-next.netlify.app/guide/installation.html#notas-de-lancamento)**"
   ]
  },
  {
   "cell_type": "markdown",
   "metadata": {},
   "source": [
    "**Requisitos**\n",
    "\n",
    "- Node instalado\n",
    "- npm instalado\n"
   ]
  },
  {
   "cell_type": "markdown",
   "metadata": {},
   "source": [
    "> Instalar o Node através do chocolatey facilita:\n",
    "> - Rodar `choco install nodejs-lts`\n",
    ">> O npm vem junto ao Node em sua instalação\n",
    "> Para verificar as versões de ambos, basta rodar:\n",
    "> - `node -v`\n",
    "> - `npm -v`"
   ]
  },
  {
   "cell_type": "markdown",
   "metadata": {},
   "source": [
    "**Instalação do Vue CLI**\n",
    "\n",
    "- Basta rodar `npm install -g @vue/cli`\n",
    "\n",
    "> Para verificar sua versão é necessário usar `vue --version`"
   ]
  },
  {
   "cell_type": "markdown",
   "metadata": {},
   "source": [
    "## Criação de um Novo Projeto"
   ]
  },
  {
   "cell_type": "markdown",
   "metadata": {},
   "source": [
    "Usando o comando `vue create <nome_do_projeto>`, o Vue CLI criará um novo projeto com todos os pacotes e instalações necessários"
   ]
  },
  {
   "cell_type": "markdown",
   "metadata": {},
   "source": [
    "> **Entrar na pasta** do projeto para conseguir dar run!"
   ]
  },
  {
   "cell_type": "markdown",
   "metadata": {},
   "source": [
    "**Run no projeto**\n",
    "\n",
    "- Usar o comando `npm run serve` **DENTRO DA PASTA DO PROJETO**"
   ]
  },
  {
   "cell_type": "markdown",
   "metadata": {},
   "source": [
    "> Com o projeto em run, qualquer alteração será feita automaticamente"
   ]
  },
  {
   "cell_type": "markdown",
   "metadata": {},
   "source": [
    "## Criação de Componentes"
   ]
  },
  {
   "cell_type": "markdown",
   "metadata": {},
   "source": [
    "A criação de componentes pode ser feita com a mesma estrutura _single file component_ do App.vue:"
   ]
  },
  {
   "cell_type": "code",
   "execution_count": null,
   "metadata": {
    "vscode": {
     "languageId": "html"
    }
   },
   "outputs": [],
   "source": [
    "<template>\n",
    "    <!--HTML do componente-->\n",
    "</template>\n",
    "\n",
    "<script>\n",
    "    //JavaScript do componente\n",
    "</script>\n",
    "\n",
    "<style>\n",
    "    /*CSS do componente*/\n",
    "</style>"
   ]
  },
  {
   "cell_type": "markdown",
   "metadata": {},
   "source": [
    "> Utilizar nomes diferentes das tags HTML para que não existam erros ao importar o componente no arquivo principal"
   ]
  },
  {
   "cell_type": "markdown",
   "metadata": {},
   "source": [
    "### Importar no arquivo principal"
   ]
  },
  {
   "cell_type": "markdown",
   "metadata": {},
   "source": [
    "Dentro da tag `<script>`"
   ]
  },
  {
   "cell_type": "code",
   "execution_count": null,
   "metadata": {
    "vscode": {
     "languageId": "html"
    }
   },
   "outputs": [],
   "source": [
    "import <nome_do_componente> from '<caminho_do_componente>'\n",
    "\n",
    "export default{\n",
    "    components: {\n",
    "        <nome_do_componente>\n",
    "    }\n",
    "}"
   ]
  },
  {
   "cell_type": "markdown",
   "metadata": {},
   "source": [
    "> Fazer isso para cada componente importado"
   ]
  },
  {
   "cell_type": "markdown",
   "metadata": {},
   "source": [
    "## Declarações Condicionais"
   ]
  },
  {
   "cell_type": "markdown",
   "metadata": {},
   "source": [
    "### Diretivas no Vue"
   ]
  },
  {
   "cell_type": "markdown",
   "metadata": {},
   "source": [
    "- São instruuções que o Vue dá para o elemento HTML, por exemplo\n",
    "- São similares ao `alt=\"\"` e `src=\"\"` que já são encontrados comumente no HTML\n",
    "- São iniciadas com a letra v"
   ]
  },
  {
   "cell_type": "markdown",
   "metadata": {},
   "source": [
    "#### Condicionais\n",
    "\n",
    "```\n",
    "v-show=\"valor\"\n",
    "v-if=\"valor\"\n",
    "v-else-if=\"valor\"\n",
    "v-else=\"valor\"\n",
    "```"
   ]
  },
  {
   "cell_type": "markdown",
   "metadata": {},
   "source": [
    "Para utilizar uma diretiva, as variáveis que serão colocadas em seu valor devem ser declaradas dentro de uma função colocada dentro do `<script>` chamada `data()`"
   ]
  },
  {
   "cell_type": "code",
   "execution_count": null,
   "metadata": {
    "vscode": {
     "languageId": "html"
    }
   },
   "outputs": [],
   "source": [
    "<script>\n",
    "    data(){\n",
    "        return{\n",
    "            /*<nome_da_variavel>: <valor_da_variavel>\n",
    "            Declarações das variáveis:\n",
    "            nome_da_variavel: valor_atribuido\n",
    "            exemplo:*/\n",
    "            mostrar: true (ou false) // -> Para mostrar ou não um elemento\n",
    "        }\n",
    "    }\n",
    "</script>"
   ]
  },
  {
   "cell_type": "markdown",
   "metadata": {},
   "source": [
    "> Como o que vem dentro de `return{}` são objetos, eles aceitam tanto booleanos, strings, outros objetos, etc"
   ]
  },
  {
   "cell_type": "markdown",
   "metadata": {},
   "source": [
    "**Diferença entre _v-if_ e _v-show_**\n",
    "\n",
    "- O elemento escondido por `v-show` estará lá mas não será mostrado por seu display ser `none`\n",
    "- Usando o `v-if`, o elemento deixa de existir se a variável for `false`"
   ]
  },
  {
   "cell_type": "markdown",
   "metadata": {},
   "source": [
    "#### Interpolação\n",
    "\n",
    "Fora de um componente pré estabelecido com um parâmetro a receber uma variável como atributo, é necessário usar as variáveis com a interpolação `{{ <nome_da_variavel> }}` para que o Vue conceba a variável como uma variável e não como uma palavra a ser exibida em tela (estática)."
   ]
  },
  {
   "cell_type": "markdown",
   "metadata": {},
   "source": [
    "#### Loops\n",
    "\n",
    "`v-for=\"\"`"
   ]
  },
  {
   "cell_type": "markdown",
   "metadata": {},
   "source": [
    "Usado para criar loops de exibição, se é necessário percorrer um objeto, por exemplo, a sintaxe usada será:"
   ]
  },
  {
   "cell_type": "code",
   "execution_count": null,
   "metadata": {
    "vscode": {
     "languageId": "html"
    }
   },
   "outputs": [],
   "source": [
    "<div v-for=\"<variavel_de_armazenamento> in <objeto_a_ser_percorrido\">\n",
    "    {{ <variavel_de_armazenamento>.<propriedade_do_objeto> }}\n",
    "</div>"
   ]
  },
  {
   "cell_type": "markdown",
   "metadata": {},
   "source": [
    "> Normalmente, para serem diferenciados, cada objeto tem um id único, o que deve ser usado com o `key=\"<variavel_de_armazenamento>.id\"`"
   ]
  },
  {
   "cell_type": "markdown",
   "metadata": {},
   "source": [
    "É possível acessar o index de um objeto colocando-o como variável dentro do loop:"
   ]
  },
  {
   "cell_type": "code",
   "execution_count": null,
   "metadata": {
    "vscode": {
     "languageId": "html"
    }
   },
   "outputs": [],
   "source": [
    "<div v-for=\"(<variavel_de_armazenamento>, index) in <objeto_a_ser_percorrido\">\n",
    "    {{ index }} - {{ <variavel_de_armazenamento>.<propriedade_do_objeto> }}\n",
    "</div>"
   ]
  },
  {
   "cell_type": "markdown",
   "metadata": {},
   "source": [
    "#### Ligação de Dados\n",
    "\n",
    "`v-bind:<propriedade> =\"<variável_dinâmica>\"`"
   ]
  },
  {
   "cell_type": "markdown",
   "metadata": {},
   "source": [
    "Usado para deixar claro ao parâmetro que ele receberá um atributo dinâmico que varia (variável)"
   ]
  },
  {
   "cell_type": "markdown",
   "metadata": {},
   "source": [
    "> Também é possível usar apenas os dois pontos (:) antes da propriedade para transformá-la em dinâmica, o Vue continuará concebendo como o uso do v-bind"
   ]
  },
  {
   "cell_type": "markdown",
   "metadata": {},
   "source": [
    "Em classes, é possível usar o `v-bind` para passar objetos e arrays além da variável que modificará a classe, fazendo possível:\n",
    "- Utilizar ou não a classe ao passar um objeto true/false\n",
    "    - O que poderia testar se o título, por exemplo, faz parte de uma determinada página, modificando-o conforme o necessário para cada uma de diferentes formas\n",
    "- Utilizar mais de um atributo com os arrays (combinando classes)\n",
    "    - Podendo, também, colocar um objeto dentro do array e fazer testes com ele, etc"
   ]
  },
  {
   "cell_type": "markdown",
   "metadata": {},
   "source": [
    "#### Ligação de Dados Bidirecional\n",
    "\n",
    "`v-model=\"<variável>\"`"
   ]
  },
  {
   "cell_type": "markdown",
   "metadata": {},
   "source": [
    "- Usado principalmente para formulários\n",
    "- Cria a ligação de dois lados\n",
    "    - Se uma variável for alterada pelo usuário ou pelo sistema, ela terá o mesmo valor nos dois"
   ]
  },
  {
   "cell_type": "markdown",
   "metadata": {},
   "source": [
    "#### Eventos\n",
    "\n",
    "`v-on:<evento> =\"<método>\"`"
   ]
  },
  {
   "cell_type": "markdown",
   "metadata": {},
   "source": [
    "- Recebe o envento que acontece e retorna algo\n",
    "    - Pode retornar funções"
   ]
  },
  {
   "cell_type": "markdown",
   "metadata": {},
   "source": [
    "> Bem como o `v-bind`, o `v-on` também pode ser encurtado para apenas um arroba (@) antes da propriedade"
   ]
  },
  {
   "cell_type": "markdown",
   "metadata": {},
   "source": [
    "##### Modificadores de Eventos"
   ]
  },
  {
   "cell_type": "markdown",
   "metadata": {},
   "source": [
    "**[Verificar](https://vuejs.org/guide/essentials/event-handling.html)**"
   ]
  },
  {
   "cell_type": "markdown",
   "metadata": {},
   "source": [
    "## Propriedade Computada\n",
    "\n",
    "`computed:{<funções>}`"
   ]
  },
  {
   "cell_type": "markdown",
   "metadata": {},
   "source": [
    "Com a propriedade computada é possível montar rotinas através do JavaScript que serão colocadas em cash e não será necessário recomputar cada vez que for utilizada a propriedade\n",
    "\n",
    "ex.:\n",
    "-   Montar um valor só, mas que depende de outros valores\n",
    "\n",
    "> Qualquer mudança feita na dependência será recomputada e colocada em cash\n",
    "\n",
    "**!** Com o uso de filtros (`filter()`) é possível fazer com que as propriedades retornem apenas o que é necessário"
   ]
  }
 ],
 "metadata": {
  "kernelspec": {
   "display_name": "Python 3.11.0 64-bit",
   "language": "python",
   "name": "python3"
  },
  "language_info": {
   "codemirror_mode": {
    "name": "ipython",
    "version": 3
   },
   "file_extension": ".py",
   "mimetype": "text/x-python",
   "name": "python",
   "nbconvert_exporter": "python",
   "pygments_lexer": "ipython3",
   "version": "3.11.0"
  },
  "orig_nbformat": 4,
  "vscode": {
   "interpreter": {
    "hash": "a008c25d2654ffd85eeda02bffc991cb6353df80df7a931f6fcf4d2355376351"
   }
  }
 },
 "nbformat": 4,
 "nbformat_minor": 2
}
