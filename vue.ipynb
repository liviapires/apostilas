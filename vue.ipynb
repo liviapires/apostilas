{
 "cells": [
  {
   "cell_type": "markdown",
   "metadata": {},
   "source": [
    "# Vue.js"
   ]
  },
  {
   "cell_type": "markdown",
   "metadata": {},
   "source": [
    "**Para erros em instalações, tentar**\n",
    "\n",
    "`Set-ExecutionPolicy Unrestricted -Scope Process`"
   ]
  },
  {
   "cell_type": "markdown",
   "metadata": {},
   "source": [
    "## Instalação"
   ]
  },
  {
   "cell_type": "markdown",
   "metadata": {},
   "source": [
    "**Sempre seguir o [guia de instalação](https://vuejsbr-docs-next.netlify.app/guide/installation.html#notas-de-lancamento)**"
   ]
  },
  {
   "cell_type": "markdown",
   "metadata": {},
   "source": [
    "**Requisitos**\n",
    "\n",
    "- Node instalado\n",
    "- npm instalado\n"
   ]
  },
  {
   "cell_type": "markdown",
   "metadata": {},
   "source": [
    "> Instalar o Node através do chocolatey facilita:\n",
    "> - Rodar `choco install nodejs-lts`\n",
    ">> O npm vem junto ao Node em sua instalação\n",
    "> Para verificar as versões de ambos, basta rodar:\n",
    "> - `node -v`\n",
    "> - `npm -v`"
   ]
  },
  {
   "cell_type": "markdown",
   "metadata": {},
   "source": [
    "**Instalação do Vue CLI**\n",
    "\n",
    "- Basta rodar `npm install -g @vue/cli`\n",
    "\n",
    "> Para verificar sua versão é necessário usar `vue --version`"
   ]
  },
  {
   "cell_type": "markdown",
   "metadata": {},
   "source": [
    "## Criação de um Novo Projeto"
   ]
  },
  {
   "cell_type": "markdown",
   "metadata": {},
   "source": [
    "Usando o comando `vue create <nome_do_projeto>`, o Vue CLI criará um novo projeto com todos os pacotes e instalações necessários"
   ]
  },
  {
   "cell_type": "markdown",
   "metadata": {},
   "source": [
    "> **Entrar na pasta** do projeto para conseguir dar run!"
   ]
  },
  {
   "cell_type": "markdown",
   "metadata": {},
   "source": [
    "**Run no projeto**\n",
    "\n",
    "- Usar o comando `npm run serve` **DENTRO DA PASTA DO PROJETO**"
   ]
  },
  {
   "cell_type": "markdown",
   "metadata": {},
   "source": [
    "> Com o projeto em run, qualquer alteração será feita automaticamente"
   ]
  },
  {
   "cell_type": "markdown",
   "metadata": {},
   "source": [
    "## Criação de Componentes"
   ]
  },
  {
   "cell_type": "markdown",
   "metadata": {},
   "source": [
    "A criação de componentes pode ser feita com a mesma estrutura _single file component_ do App.vue:"
   ]
  },
  {
   "cell_type": "code",
   "execution_count": null,
   "metadata": {
    "vscode": {
     "languageId": "html"
    }
   },
   "outputs": [],
   "source": [
    "<template>\n",
    "    <!--HTML do componente-->\n",
    "</template>\n",
    "\n",
    "<script>\n",
    "    //JavaScript do componente\n",
    "</script>\n",
    "\n",
    "<style>\n",
    "    /*CSS do componente*/\n",
    "</style>"
   ]
  },
  {
   "cell_type": "markdown",
   "metadata": {},
   "source": [
    "> Utilizar nomes diferentes das tags HTML para que não existam erros ao importar o componente no arquivo principal"
   ]
  },
  {
   "cell_type": "markdown",
   "metadata": {},
   "source": [
    "### Importar no arquivo principal"
   ]
  },
  {
   "cell_type": "markdown",
   "metadata": {},
   "source": [
    "Dentro da tag `<script>`"
   ]
  },
  {
   "cell_type": "code",
   "execution_count": null,
   "metadata": {
    "vscode": {
     "languageId": "html"
    }
   },
   "outputs": [],
   "source": [
    "import <nome_do_componente> from '<caminho_do_componente>'\n",
    "\n",
    "export default{\n",
    "    components: {\n",
    "        <nome_do_componente>\n",
    "    }\n",
    "}"
   ]
  },
  {
   "cell_type": "markdown",
   "metadata": {},
   "source": [
    "> Fazer isso para cada componente importado"
   ]
  },
  {
   "cell_type": "markdown",
   "metadata": {},
   "source": [
    "## Declarações Condicionais"
   ]
  },
  {
   "cell_type": "markdown",
   "metadata": {},
   "source": [
    "### Diretivas no Vue"
   ]
  },
  {
   "cell_type": "markdown",
   "metadata": {},
   "source": [
    "- São instruuções que o Vue dá para o elemento HTML, por exemplo\n",
    "- São similares ao `alt=\"\"` e `src=\"\"` que já são encontrados comumente no HTML\n",
    "- São iniciadas com a letra v"
   ]
  },
  {
   "cell_type": "markdown",
   "metadata": {},
   "source": [
    "#### Condicionais\n",
    "\n",
    "```\n",
    "v-show=\"valor\"\n",
    "v-if=\"valor\"\n",
    "v-else-if=\"valor\"\n",
    "v-else=\"valor\"\n",
    "```"
   ]
  },
  {
   "cell_type": "markdown",
   "metadata": {},
   "source": [
    "Para utilizar uma diretiva, as variáveis que serão colocadas em seu valor devem ser declaradas dentro de uma função colocada dentro do `<script>` chamada `data()`"
   ]
  },
  {
   "cell_type": "code",
   "execution_count": null,
   "metadata": {
    "vscode": {
     "languageId": "html"
    }
   },
   "outputs": [],
   "source": [
    "<script>\n",
    "    data(){\n",
    "        return{\n",
    "            /*<nome_da_variavel>: <valor_da_variavel>\n",
    "            Declarações das variáveis:\n",
    "            nome_da_variavel: valor_atribuido\n",
    "            exemplo:*/\n",
    "            mostrar: true (ou false) // -> Para mostrar ou não um elemento\n",
    "        }\n",
    "    }\n",
    "</script>"
   ]
  },
  {
   "cell_type": "markdown",
   "metadata": {},
   "source": [
    "> Como o que vem dentro de `return{}` são objetos, eles aceitam tanto booleanos, strings, outros objetos, etc"
   ]
  },
  {
   "cell_type": "markdown",
   "metadata": {},
   "source": [
    "**Diferença entre _v-if_ e _v-show_**\n",
    "\n",
    "- O elemento escondido por `v-show` estará lá mas não será mostrado por seu display ser `none`\n",
    "- Usando o `v-if`, o elemento deixa de existir se a variável for `false`"
   ]
  },
  {
   "cell_type": "markdown",
   "metadata": {},
   "source": [
    "#### Interpolação\n",
    "\n",
    "Fora de um componente pré estabelecido com um parâmetro a receber uma variável como atributo, é necessário usar as variáveis com a interpolação `{{ <nome_da_variavel> }}` para que o Vue conceba a variável como uma variável e não como uma palavra a ser exibida em tela (estática)."
   ]
  },
  {
   "cell_type": "markdown",
   "metadata": {},
   "source": [
    "#### Loops\n",
    "\n",
    "`v-for=\"\"`"
   ]
  },
  {
   "cell_type": "markdown",
   "metadata": {},
   "source": [
    "Usado para criar loops de exibição, se é necessário percorrer um objeto, por exemplo, a sintaxe usada será:"
   ]
  },
  {
   "cell_type": "code",
   "execution_count": null,
   "metadata": {
    "vscode": {
     "languageId": "html"
    }
   },
   "outputs": [],
   "source": [
    "<div v-for=\"<variavel_de_armazenamento> in <objeto_a_ser_percorrido\">\n",
    "    {{ <variavel_de_armazenamento>.<propriedade_do_objeto> }}\n",
    "</div>"
   ]
  },
  {
   "cell_type": "markdown",
   "metadata": {},
   "source": [
    "> Normalmente, para serem diferenciados, cada objeto tem um id único, o que deve ser usado com o `key=\"<variavel_de_armazenamento>.id\"`"
   ]
  },
  {
   "cell_type": "markdown",
   "metadata": {},
   "source": [
    "É possível acessar o index de um objeto colocando-o como variável dentro do loop:"
   ]
  },
  {
   "cell_type": "code",
   "execution_count": null,
   "metadata": {
    "vscode": {
     "languageId": "html"
    }
   },
   "outputs": [],
   "source": [
    "<div v-for=\"(<variavel_de_armazenamento>, index) in <objeto_a_ser_percorrido\">\n",
    "    {{ index }} - {{ <variavel_de_armazenamento>.<propriedade_do_objeto> }}\n",
    "</div>"
   ]
  },
  {
   "cell_type": "markdown",
   "metadata": {},
   "source": [
    "#### Ligação de Dados\n",
    "\n",
    "`v-bind:<propriedade> =\"<variável_dinâmica>\"`"
   ]
  },
  {
   "cell_type": "markdown",
   "metadata": {},
   "source": [
    "Usado para deixar claro ao parâmetro que ele receberá um atributo dinâmico que varia (variável)"
   ]
  },
  {
   "cell_type": "markdown",
   "metadata": {},
   "source": [
    "> Também é possível usar apenas os dois pontos (:) antes da propriedade para transformá-la em dinâmica, o Vue continuará concebendo como o uso do v-bind"
   ]
  },
  {
   "cell_type": "markdown",
   "metadata": {},
   "source": [
    "Em classes, é possível usar o `v-bind` para passar objetos e arrays além da variável que modificará a classe, fazendo possível:\n",
    "- Utilizar ou não a classe ao passar um objeto true/false\n",
    "    - O que poderia testar se o título, por exemplo, faz parte de uma determinada página, modificando-o conforme o necessário para cada uma de diferentes formas\n",
    "- Utilizar mais de um atributo com os arrays (combinando classes)\n",
    "    - Podendo, também, colocar um objeto dentro do array e fazer testes com ele, etc"
   ]
  },
  {
   "cell_type": "markdown",
   "metadata": {},
   "source": [
    "#### Ligação de Dados Bidirecional\n",
    "\n",
    "`v-model=\"<variável>\"`"
   ]
  },
  {
   "cell_type": "markdown",
   "metadata": {},
   "source": [
    "- Usado principalmente para formulários\n",
    "- Cria a ligação de dois lados\n",
    "    - Se uma variável for alterada pelo usuário ou pelo sistema, ela terá o mesmo valor nos dois"
   ]
  },
  {
   "cell_type": "markdown",
   "metadata": {},
   "source": [
    "#### Eventos\n",
    "\n",
    "`v-on:<evento> =\"<método>\"`"
   ]
  },
  {
   "cell_type": "markdown",
   "metadata": {},
   "source": [
    "- Recebe o envento que acontece e retorna algo\n",
    "    - Pode retornar funções"
   ]
  },
  {
   "cell_type": "markdown",
   "metadata": {},
   "source": [
    "> Bem como o `v-bind`, o `v-on` também pode ser encurtado para apenas um arroba (@) antes da propriedade"
   ]
  },
  {
   "cell_type": "markdown",
   "metadata": {},
   "source": [
    "##### Modificadores de Eventos"
   ]
  },
  {
   "cell_type": "markdown",
   "metadata": {},
   "source": [
    "**[Verificar](https://vuejs.org/guide/essentials/event-handling.html)**"
   ]
  },
  {
   "cell_type": "markdown",
   "metadata": {},
   "source": [
    "## Propriedade Computada"
   ]
  },
  {
   "cell_type": "markdown",
   "metadata": {},
   "source": [
    "`computed:{<funções>}`"
   ]
  },
  {
   "cell_type": "markdown",
   "metadata": {},
   "source": [
    "Com a propriedade computada é possível montar rotinas através do JavaScript que serão colocadas em cash e não será necessário recomputar cada vez que for utilizada a propriedade\n",
    "\n",
    "ex.:\n",
    "-   Montar um valor só, mas que depende de outros valores\n",
    "\n",
    "> Qualquer mudança feita na dependência será recomputada e colocada em cash\n",
    "\n",
    "**!** Com o uso de filtros (`filter()`) é possível fazer com que as propriedades retornem apenas o que é necessário"
   ]
  },
  {
   "cell_type": "markdown",
   "metadata": {},
   "source": [
    "\n",
    "## Observadores"
   ]
  },
  {
   "cell_type": "markdown",
   "metadata": {},
   "source": [
    "`watch: {<função_com_mesmo_nome_da_variável_observada>}`"
   ]
  },
  {
   "cell_type": "markdown",
   "metadata": {},
   "source": [
    "O que for colocado dentro do `watch` será observado e executado assim que a variável for modificada.\n",
    "\n",
    "> É interessante manter tudo o que for rotina dentro dos `methods`, apenas chamando a função no `watch`\n",
    "\n",
    "**!** O que acontece, quando acontece, se acontece, pode ser definido no `watch` com declarações condicionais como `if` e loops como `for`."
   ]
  },
  {
   "cell_type": "markdown",
   "metadata": {},
   "source": [
    "Observar objetos requer atenção, pois normalmente não se modifica o objeto, mas o que ele contém\n",
    "\n",
    "- Para observa-los, é necessário usar o objeto dentro do `watch` com dois atributos\n",
    "    - `handler()`, uma função que retornará o que é preciso quando o que há dentro do objeto for modificado\n",
    "    - `deep: true`, o que faz com que o `handler()` dispare o que está dentro dele assim que **qualquer coisa** que estiver dentro do objeto seja modificada"
   ]
  },
  {
   "cell_type": "markdown",
   "metadata": {},
   "source": [
    "## Ciclo de Vida"
   ]
  },
  {
   "cell_type": "markdown",
   "metadata": {},
   "source": [
    "### Existem 4 fases do Ciclo de Vida do Vue\n",
    "\n",
    "- Criação\n",
    "- Montagem\n",
    "- Atualização\n",
    "- Desmontagem"
   ]
  },
  {
   "cell_type": "markdown",
   "metadata": {},
   "source": [
    "#### Criação"
   ]
  },
  {
   "cell_type": "markdown",
   "metadata": {},
   "source": [
    "- Preparar o componente\n",
    "- Ajax, iniciar variáveis\n",
    "- Não tem acesso ao DOM (template)"
   ]
  },
  {
   "cell_type": "markdown",
   "metadata": {},
   "source": [
    "#### Montagem"
   ]
  },
  {
   "cell_type": "markdown",
   "metadata": {},
   "source": [
    "- Inicializar uma lib externa\n",
    "- Precisa e tem acesso ao DOM (template)"
   ]
  },
  {
   "cell_type": "markdown",
   "metadata": {},
   "source": [
    "#### Atualização"
   ]
  },
  {
   "cell_type": "markdown",
   "metadata": {},
   "source": [
    "- Debug"
   ]
  },
  {
   "cell_type": "markdown",
   "metadata": {},
   "source": [
    "#### Desmontagem"
   ]
  },
  {
   "cell_type": "markdown",
   "metadata": {},
   "source": [
    "- Remover tudo o que for necessário para liberar memória\n",
    "    - lib -> ddestroy(), etc"
   ]
  },
  {
   "cell_type": "markdown",
   "metadata": {},
   "source": [
    "#### **HOOKS**"
   ]
  },
  {
   "cell_type": "markdown",
   "metadata": {},
   "source": [
    "Mostram o estado do componente quando está em cada ciclo"
   ]
  },
  {
   "cell_type": "code",
   "execution_count": null,
   "metadata": {
    "vscode": {
     "languageId": "html"
    }
   },
   "outputs": [],
   "source": [
    "<script>\n",
    "    export default{\n",
    "        name: 'vue',\n",
    "        // Criação\n",
    "        beforeCreate(){\n",
    "\n",
    "        },\n",
    "        created(){\n",
    "        \n",
    "        },\n",
    "        // Montagem\n",
    "        beforeMount(){\n",
    "        \n",
    "        },\n",
    "        mounted(){\n",
    "        \n",
    "        },\n",
    "        // Atualização\n",
    "        beforeUpdate(){\n",
    "        \n",
    "        },\n",
    "        updated(){\n",
    "        \n",
    "        },\n",
    "        // Desmontagem\n",
    "        beforeDemount(){\n",
    "            \n",
    "        },\n",
    "        unmounted(){\n",
    "\n",
    "        },\n",
    "    }\n",
    "</script>"
   ]
  },
  {
   "cell_type": "markdown",
   "metadata": {},
   "source": [
    "## Componentes Slot"
   ]
  },
  {
   "cell_type": "markdown",
   "metadata": {},
   "source": [
    "`<slot />`"
   ]
  },
  {
   "cell_type": "markdown",
   "metadata": {},
   "source": [
    "- São definidos nos componentes\n",
    "- Quando não nomeados, são concebidos como padrão (default)"
   ]
  },
  {
   "cell_type": "markdown",
   "metadata": {},
   "source": [
    "### Para serem utilizados"
   ]
  },
  {
   "cell_type": "markdown",
   "metadata": {},
   "source": [
    "**Definição no slot**"
   ]
  },
  {
   "cell_type": "code",
   "execution_count": null,
   "metadata": {
    "vscode": {
     "languageId": "html"
    }
   },
   "outputs": [],
   "source": [
    "<template>\n",
    "    <slot name=\"nome_do_slot\" />\n",
    "</template>"
   ]
  },
  {
   "cell_type": "markdown",
   "metadata": {},
   "source": [
    "**Usando em outros locais**"
   ]
  },
  {
   "cell_type": "code",
   "execution_count": null,
   "metadata": {
    "vscode": {
     "languageId": "html"
    }
   },
   "outputs": [],
   "source": [
    "<template>\n",
    "    <nome_do_componente>\n",
    "        <template v-slot:nome_do_slot>\n",
    "            <!--HTML do slot-->\n",
    "        </template>\n",
    "    </nome_do_componente>\n",
    "</template>"
   ]
  },
  {
   "cell_type": "markdown",
   "metadata": {},
   "source": [
    "## CSS Global x Scoped"
   ]
  },
  {
   "cell_type": "markdown",
   "metadata": {},
   "source": [
    "- Colocado dentro de assets\n",
    "- Às vezes não é necessário quando modificar elementos específicos\n",
    "    - Quando esses elementos não forem utilizados, a aplicação ainda carregará o CSS obsoleto\n",
    "- Porém, mesmo colocando o CSS dentro do componente, ele ainda poderá ser usado dentro da aplicação principal\n",
    "    - A menos que seja passado o parâmetro `scoped` dentro do `<style>`"
   ]
  },
  {
   "cell_type": "code",
   "execution_count": null,
   "metadata": {
    "vscode": {
     "languageId": "html"
    }
   },
   "outputs": [],
   "source": [
    "<style scoped>\n",
    "    .nome_da_classe{\n",
    "        /*CSS da classe*/\n",
    "    }\n",
    "</style>"
   ]
  },
  {
   "cell_type": "markdown",
   "metadata": {},
   "source": [
    "**!** Assim, o único a conseguir utilizar a classe CSS será o componente onde ela foi implementada"
   ]
  },
  {
   "cell_type": "markdown",
   "metadata": {},
   "source": [
    "## Props"
   ]
  },
  {
   "cell_type": "markdown",
   "metadata": {},
   "source": [
    "`props:`"
   ]
  },
  {
   "cell_type": "markdown",
   "metadata": {},
   "source": [
    "- Propriedades passadas do componente pai para o componente filho\n",
    "\n",
    "<center>pai -> filho</center>\n",
    "<br>\n",
    "\n",
    "> O que for declarado dentro de `props:` poderá ser utilizado pelo componente para modificar seu estado em outras aplicações\n",
    "\n",
    "**!** Para evitar verbose, utilizar `computed` para fazer a mudança entre uma classe e outra"
   ]
  },
  {
   "cell_type": "code",
   "execution_count": null,
   "metadata": {
    "vscode": {
     "languageId": "html"
    }
   },
   "outputs": [],
   "source": [
    "<template>\n",
    "    <div :class=\"funçãoModificadora\">\n",
    "        <!--HTML do componente-->\n",
    "    </div>\n",
    "</template>\n",
    "\n",
    "<script>\n",
    "    export default{\n",
    "        props: ['nome_da_propriedade_variante'],\n",
    "        computed:{\n",
    "            funçãoModificadora(){\n",
    "                return[\n",
    "                    'nome_da_classe_variante', \n",
    "                    this.nome_da_propriedade_variante ? `nome_da_classe_variante-${this.nome_da_propriedade_variante}` : ''\n",
    "                ]\n",
    "            }\n",
    "        }\n",
    "    }\n",
    "</script>"
   ]
  },
  {
   "cell_type": "markdown",
   "metadata": {},
   "source": [
    "**! Props** são diferentes de **Slots** pois se referem ao comportamento do componente (cor, tamanho, etc) e não ao seu conteúdo, como o outro\n",
    "\n",
    "> Para modificar o que vai dentro de um componente ao ser utilizado, é mais interessante utilizar `<slot />`"
   ]
  },
  {
   "cell_type": "markdown",
   "metadata": {},
   "source": [
    "Para declarar valores padrão, basta transformar as `props` em objeto"
   ]
  },
  {
   "cell_type": "code",
   "execution_count": null,
   "metadata": {
    "vscode": {
     "languageId": "html"
    }
   },
   "outputs": [],
   "source": [
    "<script>\n",
    "    export default{\n",
    "        props: {\n",
    "            nome_da_propriedade_variante: {\n",
    "                type: String,\n",
    "                default: 'valor_padrao'\n",
    "            }\n",
    "        },\n",
    "    }\n",
    "</script>"
   ]
  },
  {
   "cell_type": "markdown",
   "metadata": {},
   "source": [
    "## Emit"
   ]
  },
  {
   "cell_type": "markdown",
   "metadata": {},
   "source": [
    "`this.$emit()`"
   ]
  },
  {
   "cell_type": "markdown",
   "metadata": {},
   "source": [
    "- Propriedades passadas do componente filho para o componente pai\n",
    "\n",
    "<center>filho -> pai</center>\n"
   ]
  },
  {
   "cell_type": "markdown",
   "metadata": {},
   "source": [
    "- Cria um evento personalizado que pode ser capturado pelo componente pai para executar alguma determinada ação"
   ]
  },
  {
   "cell_type": "markdown",
   "metadata": {},
   "source": [
    "## Vue Router"
   ]
  },
  {
   "cell_type": "markdown",
   "metadata": {},
   "source": [
    "**Criação de Rotas na URL**"
   ]
  },
  {
   "cell_type": "markdown",
   "metadata": {},
   "source": [
    "### Instalação"
   ]
  },
  {
   "cell_type": "markdown",
   "metadata": {},
   "source": [
    "Ele cria e refaz algumas pastas e arquivos, é melhor iniciar um projeto novo para fazer a instalação"
   ]
  },
  {
   "cell_type": "markdown",
   "metadata": {},
   "source": [
    "`vue add router` -> no terminal\n",
    "\n",
    "- Aceitar a primeira pergunta\n",
    "- Negar a segunda pergunta\n",
    "\n",
    "> As rotas de exemplo se encontrarão dentro da pasta _router_ em `index.js`, utilizando diretamente as views localizadas na pasta _views_"
   ]
  },
  {
   "cell_type": "markdown",
   "metadata": {},
   "source": [
    "### Sintaxe"
   ]
  },
  {
   "cell_type": "code",
   "execution_count": null,
   "metadata": {
    "vscode": {
     "languageId": "javascript"
    }
   },
   "outputs": [],
   "source": [
    "const routes = [\n",
    "    {\n",
    "        path: '/caminho_da_rota',\n",
    "        name: 'nome_da_rota',\n",
    "        component: /*nome_da_view OU () => import(caminho_da_view)*/\n",
    "    },\n",
    "]"
   ]
  },
  {
   "cell_type": "markdown",
   "metadata": {},
   "source": [
    "#### Para utilizar:\n",
    "\n",
    "Na aplicação principal"
   ]
  },
  {
   "cell_type": "code",
   "execution_count": null,
   "metadata": {
    "vscode": {
     "languageId": "html"
    }
   },
   "outputs": [],
   "source": [
    "<RouterLink to=\"/caminho_da_rota\">Nome do link</RouterLink>\n",
    "\n",
    "<router-view /> <!--Local onde será exibido o componente (view) da rota-->"
   ]
  },
  {
   "cell_type": "markdown",
   "metadata": {},
   "source": [
    "> Também é possível passar objetos dentro do `to=\"\"` no `<RouterLink>`, fazendo com que seja possível modificá-lo dinamicamente"
   ]
  },
  {
   "cell_type": "markdown",
   "metadata": {},
   "source": [
    "Todas as **informações** sobre a rota podem ser encontradas da seguinte forma:\n",
    "\n",
    "```\n",
    "<pre>\n",
    "    {{ $route }}\n",
    "</pre>\n",
    "```"
   ]
  },
  {
   "cell_type": "markdown",
   "metadata": {},
   "source": [
    "Já para conseguir as **funcionalidades** da rota é feito da seguinte forma:\n",
    "\n",
    "**Dentro do Script**"
   ]
  },
  {
   "cell_type": "code",
   "execution_count": null,
   "metadata": {
    "vscode": {
     "languageId": "html"
    }
   },
   "outputs": [],
   "source": [
    "<script>\n",
    "    methods: {\n",
    "        nome_da_funcao(){\n",
    "            // depois de todas as validações\n",
    "            this.$router.push('/caminho_da_rota') // -> Redireciona para a rota\n",
    "        }\n",
    "    }\n",
    "</script>"
   ]
  },
  {
   "cell_type": "markdown",
   "metadata": {},
   "source": [
    "## VUEX"
   ]
  },
  {
   "cell_type": "markdown",
   "metadata": {},
   "source": [
    "É como um \"banco de dados\" do front-end, onde estão todos os dados necessários para a aplicação e podem ser acessados de qualquer lugar nela"
   ]
  },
  {
   "cell_type": "markdown",
   "metadata": {},
   "source": [
    "> Assim como o Route, o VueX também faz possível a verificação de todas as suas informações através do uso de `$store`"
   ]
  },
  {
   "cell_type": "markdown",
   "metadata": {},
   "source": [
    "### Instalação"
   ]
  },
  {
   "cell_type": "markdown",
   "metadata": {},
   "source": [
    "`vue add vuex` -> no terminal"
   ]
  },
  {
   "cell_type": "markdown",
   "metadata": {},
   "source": [
    "### Camadas"
   ]
  },
  {
   "cell_type": "markdown",
   "metadata": {},
   "source": [
    "O VueX é dividido em camadas, falaremos sobre quatro delas:\n",
    "\n",
    "```\n",
    "    state: {\n",
    "\n",
    "    },\n",
    "\n",
    "    mutations: {\n",
    "\n",
    "    },\n",
    "    \n",
    "    actions: {\n",
    "\n",
    "    },\n",
    "\n",
    "    getters: {\n",
    "\n",
    "    },\n",
    "```"
   ]
  },
  {
   "cell_type": "markdown",
   "metadata": {},
   "source": [
    "#### State"
   ]
  },
  {
   "cell_type": "markdown",
   "metadata": {},
   "source": [
    "- Estado\n",
    "- Onde são guardados os dados\n",
    "\n",
    "> Os dados armazenados aqui podem ser acessados de qualquer lugar na aplicação"
   ]
  },
  {
   "cell_type": "markdown",
   "metadata": {},
   "source": [
    "#### Mutations"
   ]
  },
  {
   "cell_type": "markdown",
   "metadata": {},
   "source": [
    "- Onde acontece o fluxo dos dados\n",
    "    - Onde os dados presentes no `state` são modificados"
   ]
  },
  {
   "attachments": {},
   "cell_type": "markdown",
   "metadata": {},
   "source": [
    "> Apenas as Mutations são capazes de mudar o valor do State\n",
    "> - Usa `commit`"
   ]
  },
  {
   "attachments": {},
   "cell_type": "markdown",
   "metadata": {},
   "source": [
    "#### Getters"
   ]
  },
  {
   "attachments": {},
   "cell_type": "markdown",
   "metadata": {},
   "source": [
    "- Funciona como a propriedade Computed\n",
    "- Observador"
   ]
  },
  {
   "attachments": {},
   "cell_type": "markdown",
   "metadata": {},
   "source": [
    "#### Actions"
   ]
  },
  {
   "attachments": {},
   "cell_type": "markdown",
   "metadata": {},
   "source": [
    "- Conjunto de funções\n",
    "- Retorna uma \"promessa\"\n",
    "    - Usada para tarefas assíncronas"
   ]
  },
  {
   "attachments": {},
   "cell_type": "markdown",
   "metadata": {},
   "source": [
    "> O Vue recomenda que seja chamada uma Action para ativar uma Mutation e só aí salvar no State"
   ]
  },
  {
   "attachments": {},
   "cell_type": "markdown",
   "metadata": {},
   "source": [
    "## Composition API"
   ]
  },
  {
   "attachments": {},
   "cell_type": "markdown",
   "metadata": {},
   "source": [
    "A Composition API surgiu para melhorar a implementação do código\n",
    "\n",
    "- Antes era necessário usar `mixins` para injetar um mesmo script em mais de um componente\n",
    "    - Isso poderia levar a confusão em um projeto com vários `mixins`\n",
    "\n",
    "- Com o `setup()`, elimina-se a camada de criação do Ciclo de Vida, bem como a necessidade da utilização de `data()`\n",
    "    - Colocando as variáveis dentro do `return` dentro do `setup()`, elas se tornam disponíveis no `<template>`, porém **não são reativas**\n",
    "    - Também elimina o uso dos `methods:`, que agora serão funções dentro do próprio `setup()`"
   ]
  },
  {
   "attachments": {},
   "cell_type": "markdown",
   "metadata": {},
   "source": [
    "> Tudo o que for usado na Composition API deve ser importado"
   ]
  },
  {
   "cell_type": "code",
   "execution_count": null,
   "metadata": {
    "vscode": {
     "languageId": "javascript"
    }
   },
   "outputs": [],
   "source": [
    "import { propriedades } from 'vue'"
   ]
  },
  {
   "attachments": {},
   "cell_type": "markdown",
   "metadata": {},
   "source": [
    "### Reatividade"
   ]
  },
  {
   "attachments": {},
   "cell_type": "markdown",
   "metadata": {},
   "source": [
    "Para tornar algo <ins>reativo</ins>, é necessário usar a função `reactive()` ou `ref()`\n",
    "\n",
    "> `ref()` é diferente de `reactive()` pois aceita mais tipos que ela que só aceita tipos objeto como **arrays** e  **objetos** e tipos de coleção como **Map** e **Set**, não aceitando **string**, **number** ou **boolean**\n",
    "\n",
    "- `ref()` encapsula o que está dentro dele, por isso é necessário acessar com o .value\n",
    "\n",
    "**!** É preferível usar sempre o `ref()` pela praticidade"
   ]
  },
  {
   "attachments": {},
   "cell_type": "markdown",
   "metadata": {},
   "source": [
    "> Para usar Computed e Watch os conceitos são os mesmos, muda apenas a implementação"
   ]
  }
 ],
 "metadata": {
  "kernelspec": {
   "display_name": "Python 3.11.0 64-bit",
   "language": "python",
   "name": "python3"
  },
  "language_info": {
   "codemirror_mode": {
    "name": "ipython",
    "version": 3
   },
   "file_extension": ".py",
   "mimetype": "text/x-python",
   "name": "python",
   "nbconvert_exporter": "python",
   "pygments_lexer": "ipython3",
   "version": "3.11.0 (main, Oct 24 2022, 18:26:48) [MSC v.1933 64 bit (AMD64)]"
  },
  "orig_nbformat": 4,
  "vscode": {
   "interpreter": {
    "hash": "a008c25d2654ffd85eeda02bffc991cb6353df80df7a931f6fcf4d2355376351"
   }
  }
 },
 "nbformat": 4,
 "nbformat_minor": 2
}
